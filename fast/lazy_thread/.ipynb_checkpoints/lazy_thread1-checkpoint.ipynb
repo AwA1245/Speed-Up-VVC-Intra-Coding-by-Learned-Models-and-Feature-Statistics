{
 "cells": [
  {
   "cell_type": "code",
   "execution_count": 6,
   "id": "59cbc12b-c483-47f6-bcad-ce72c4e3523c",
   "metadata": {
    "scrolled": true,
    "tags": []
   },
   "outputs": [
    {
     "name": "stdout",
     "output_type": "stream",
     "text": [
      "[2022/06/06 11:52:01] 32 ClassA2_DaylightRoad2 start\n",
      "[2022/06/06 18:23:39] 32 ClassA2_DaylightRoad2 done\n",
      "[2022/06/06 18:23:39] 37 ClassA2_DaylightRoad2 start\n",
      "[2022/06/06 21:24:16] 37 ClassA2_DaylightRoad2 done\n",
      "[2022/06/06 21:24:16] 22 ClassA2_CatRobot start\n",
      "[2022/06/07 17:24:32] 22 ClassA2_CatRobot done\n",
      "[2022/06/07 17:24:32] 27 ClassA2_CatRobot start\n",
      "[2022/06/08 02:53:33] 27 ClassA2_CatRobot done\n",
      "[2022/06/08 02:53:33] 32 ClassA2_CatRobot start\n",
      "[2022/06/08 08:44:50] 32 ClassA2_CatRobot done\n",
      "[2022/06/08 08:44:50] 37 ClassA2_CatRobot start\n",
      "[2022/06/08 11:46:20] 37 ClassA2_CatRobot done\n",
      "all done\n"
     ]
    }
   ],
   "source": [
    "import os \n",
    "\n",
    "QP = [22, 27, 32, 37]\n",
    "cfgPath = '../../../../Datasets/Jem_Test_Sequence/cfg/VVC'\n",
    "YUVPath = '../../../../Datasets/Jem_Test_Sequence'\n",
    "bash_out = ''\n",
    "\n",
    "# for qp in QP:\n",
    "#     bash_out += f'rm -rf {qp};'\n",
    "#     bash_out += f'mkdir {qp};'\n",
    "for class_ in sorted(os.listdir(cfgPath)):\n",
    "    if 'sA2' not in class_:\n",
    "        continue\n",
    "    yuvPrefixPath = os.path.join(YUVPath, class_)\n",
    "    for cfg in os.listdir(os.path.join(cfgPath, class_)):\n",
    "        if not cfg.endswith('.cfg'):\n",
    "            continue\n",
    "        YUVName = cfg.split('.')[0]\n",
    "        YUVName = class_+'_'+YUVName\n",
    "        for qp in QP:\n",
    "            if f'{YUVName}.txt' in os.listdir(os.path.join('..', str(qp))):\n",
    "                continue\n",
    "            bash_out += \"echo %s %s %s start;\" % (\"[$(date +'%Y/%m/%d %H:%M:%S')]\", qp, YUVName)\n",
    "            bash_out += (f'../EncoderAppStatic\\\n",
    "                         -c ../../../../VVCSoftware_VTM-VTM-14.0/cfg/encoder_intra_vtm.cfg\\\n",
    "                         -c {os.path.join(cfgPath, class_, cfg)}\\\n",
    "                         -ipp {yuvPrefixPath}\\\n",
    "                         -q {qp}\\\n",
    "                         -mmlab c ./mmlab_fast.cfg\\\n",
    "                         > ../{qp}/{YUVName}.txt;')\n",
    "            bash_out += \"echo %s %s %s done;\" % (\"[$(date +'%Y/%m/%d %H:%M:%S')]\", qp, YUVName)\n",
    "\n",
    "bash_out += '(echo all done)' \n",
    "!{bash_out}"
   ]
  },
  {
   "cell_type": "code",
   "execution_count": null,
   "id": "d066e4e1-2b72-47c6-91a8-0240592752e9",
   "metadata": {},
   "outputs": [],
   "source": []
  }
 ],
 "metadata": {
  "kernelspec": {
   "display_name": "Python 3 (ipykernel)",
   "language": "python",
   "name": "python3"
  },
  "language_info": {
   "codemirror_mode": {
    "name": "ipython",
    "version": 3
   },
   "file_extension": ".py",
   "mimetype": "text/x-python",
   "name": "python",
   "nbconvert_exporter": "python",
   "pygments_lexer": "ipython3",
   "version": "3.7.10"
  }
 },
 "nbformat": 4,
 "nbformat_minor": 5
}
